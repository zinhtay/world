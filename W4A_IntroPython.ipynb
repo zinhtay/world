{
  "nbformat": 4,
  "nbformat_minor": 0,
  "metadata": {
    "colab": {
      "name": "W4A-IntroPython",
      "provenance": [],
      "collapsed_sections": [],
      "include_colab_link": true
    },
    "kernelspec": {
      "name": "python3",
      "display_name": "Python 3"
    }
  },
  "cells": [
    {
      "cell_type": "markdown",
      "metadata": {
        "id": "view-in-github",
        "colab_type": "text"
      },
      "source": [
        "<a href=\"https://colab.research.google.com/github/zinhtay/world/blob/master/W4A_IntroPython.ipynb\" target=\"_parent\"><img src=\"https://colab.research.google.com/assets/colab-badge.svg\" alt=\"Open In Colab\"/></a>"
      ]
    },
    {
      "cell_type": "markdown",
      "metadata": {
        "id": "xMDcLk0BrMOy"
      },
      "source": [
        "# Week 4A: Introduction to Python Programming 🐍\n",
        "*Product School Data Analytics course*\n",
        "\n",
        "This is an introductory notebook with exercises for complete beginners. You should expect to complete it within one or two hours.\n",
        "\n",
        "As a reminder, Python is\n",
        "- **Interpreted**: code is compiled and executed, line-by-line, simultaneously\n",
        "- **Dynamically-typed**: you don't have to predefine variable types\n",
        "- **Multi-paradigm** (procedural, object-oriented, functional): in short it is versatile\n",
        "\n",
        "You can execute each cell with Ctrl + Enter.\n",
        "\n",
        "*Exercises*: Solutions are provided for each exercise. You can see the expected output by running the cell, and display the corresponding code (avoid checking the solutions too fast, otherwise you won't learn anything here) by clicking on *Edit* → *Show/Hide code*.\n",
        "\n",
        "💡If you want to know more about Colab notebooks have a look at [this tutorial notebook](https://colab.research.google.com/notebooks/basic_features_overview.ipynb)."
      ]
    },
    {
      "cell_type": "markdown",
      "metadata": {
        "id": "SLFy2QRa-d5M"
      },
      "source": [
        "## Variables, types and functions\n",
        "\n",
        "### First steps 🐣\n",
        "\n",
        "In a notebook you can directly execute an operation and see the output\n"
      ]
    },
    {
      "cell_type": "code",
      "metadata": {
        "id": "JqOvvPsfC8-D",
        "colab": {
          "base_uri": "https://localhost:8080/",
          "height": 34
        },
        "outputId": "7fb135a4-eb75-428d-d041-c45031fff155"
      },
      "source": [
        "1 + 1"
      ],
      "execution_count": null,
      "outputs": [
        {
          "output_type": "execute_result",
          "data": {
            "text/plain": [
              "2"
            ]
          },
          "metadata": {
            "tags": []
          },
          "execution_count": 17
        }
      ]
    },
    {
      "cell_type": "markdown",
      "metadata": {
        "id": "4wqQfF9HDaP4"
      },
      "source": [
        "Note that the result of the last line of a cell is displayed, but if you want to explicitely print something you have to use the `print` keyword. You can also add comments with \"#\", or with triple quotes (or double quotes) for multi-line comments."
      ]
    },
    {
      "cell_type": "code",
      "metadata": {
        "id": "knBKT7C3DZHw",
        "colab": {
          "base_uri": "https://localhost:8080/",
          "height": 34
        },
        "outputId": "2fe49690-e540-4472-a8aa-3215b3c34c45"
      },
      "source": [
        "# Here is a comment \n",
        "\n",
        "\"\"\" \n",
        "And here is another,\n",
        "multi-line one \n",
        "\"\"\"\n",
        "\n",
        "print(\"Welcome to this tutorial!\")"
      ],
      "execution_count": null,
      "outputs": [
        {
          "output_type": "stream",
          "text": [
            "Welcome to this tutorial!\n"
          ],
          "name": "stdout"
        }
      ]
    },
    {
      "cell_type": "markdown",
      "metadata": {
        "id": "wQw9kabqDPAn"
      },
      "source": [
        "In Python you don't have to predefine variable types. Rather, the variable type is *infered*. For instance:"
      ]
    },
    {
      "cell_type": "code",
      "metadata": {
        "id": "dDzX9HbfFLR8",
        "colab": {
          "base_uri": "https://localhost:8080/",
          "height": 34
        },
        "outputId": "79e0f7dc-57aa-4816-9169-2f338e734a45"
      },
      "source": [
        "my_first_variable = 1  # Assign 1 to a variable x\n",
        "print(type(my_first_variable))  # The variable type is obtained with the keyword \"type\""
      ],
      "execution_count": null,
      "outputs": [
        {
          "output_type": "stream",
          "text": [
            "<class 'int'>\n"
          ],
          "name": "stdout"
        }
      ]
    },
    {
      "cell_type": "markdown",
      "metadata": {
        "id": "kp_kRf80F0LV"
      },
      "source": [
        "So the Python interpreter identified an integer 🤯.  \n",
        "\n",
        "By the way, note that the convention in Python is to use `snake_case` (i.e. words delimited by underscores), with lower case for variables and functions, and starting with a capitale letter for classes. A list of all naming and formatting conventions is provided by the [Style Guide of the Python Enhancement Proposal 8 (PEP8)](https://www.python.org/dev/peps/pep-0008/).\n",
        "\n",
        "Here is a list of the main data types in Python:\n"
      ]
    },
    {
      "cell_type": "code",
      "metadata": {
        "id": "xN1sy6KvF6QW",
        "colab": {
          "base_uri": "https://localhost:8080/",
          "height": 102
        },
        "outputId": "043cd49d-b2ec-4875-d9b8-c0a919b49d32"
      },
      "source": [
        "x = 1   # Integers \n",
        "print(type(x))\n",
        "\n",
        "x = 1.2  # Decimal numbers, a.k.a. floats\n",
        "print(type(x))\n",
        "\n",
        "x = \"This is a string\"  # String, between single or double-quotes\n",
        "print(type(x))\n",
        "\n",
        "x = True  # Booleans, either True or False\n",
        "print(type(x))\n",
        "\n",
        "x = [\"Hello\", 1, \"a\", \"list\"]   # In Python, lists can contain objects of different types\n",
        "print(type(x))"
      ],
      "execution_count": null,
      "outputs": [
        {
          "output_type": "stream",
          "text": [
            "<class 'int'>\n",
            "<class 'float'>\n",
            "<class 'str'>\n",
            "<class 'bool'>\n",
            "<class 'list'>\n"
          ],
          "name": "stdout"
        }
      ]
    },
    {
      "cell_type": "markdown",
      "metadata": {
        "id": "QpoCydjDF4sp"
      },
      "source": [
        "Find an exhaustive list [in the Python 3 documentation](https://docs.python.org/3/library/stdtypes.html).\n",
        "\n",
        "📝To print a variable with a message, you can create a new string with one of  the following methods:"
      ]
    },
    {
      "cell_type": "code",
      "metadata": {
        "id": "dl7xHvRXIiRt",
        "colab": {
          "base_uri": "https://localhost:8080/",
          "height": 85
        },
        "outputId": "4640b11e-0edf-4a4b-b7ee-47105ebc48e0"
      },
      "source": [
        "x = 1\n",
        "\n",
        "print(\"This is my variable:\", x)  # Use the print function\n",
        "print(\"This is my variable: \" + str(x))  # Explicitely cast (i.e. transform type) x as a string\n",
        "print(\"This is my variable: {}\".format(x))  # With the format method\n",
        "print(f\"This is my variable: {x}\")  # Newest, \"f-string\" method"
      ],
      "execution_count": null,
      "outputs": [
        {
          "output_type": "stream",
          "text": [
            "This is my variable: 1\n",
            "This is my variable: 1\n",
            "This is my variable: 1\n",
            "This is my variable: 1\n"
          ],
          "name": "stdout"
        }
      ]
    },
    {
      "cell_type": "markdown",
      "metadata": {
        "id": "09cqEnXvHUue"
      },
      "source": [
        "### Operations on numbers 🧮\n",
        "\n",
        "All the basic operations are supported by both integers and floats: +, -, \\*, /, and \\*\\* are the addition, subtraction, multiplication, division, and exponentiation (power) respectively."
      ]
    },
    {
      "cell_type": "code",
      "metadata": {
        "id": "-Fsl5V-MHW1Q",
        "colab": {
          "base_uri": "https://localhost:8080/",
          "height": 102
        },
        "outputId": "c34487f5-004b-4190-fc4d-aacf6b543205"
      },
      "source": [
        "a = 4\n",
        "b = 2\n",
        "\n",
        "print(f\"Sum: {a+b}\")\n",
        "print(f\"Difference: {a-b}\")\n",
        "print(f\"Product: {a*b}\")\n",
        "print(f\"Ratio: {a/b}\")\n",
        "print(f\"Exponentiation: {a**b}\")"
      ],
      "execution_count": null,
      "outputs": [
        {
          "output_type": "stream",
          "text": [
            "Sum: 6\n",
            "Difference: 2\n",
            "Product: 8\n",
            "Ratio: 2.0\n",
            "Exponentiation: 16\n"
          ],
          "name": "stdout"
        }
      ]
    },
    {
      "cell_type": "markdown",
      "metadata": {
        "id": "k4jvVgQp_nl4"
      },
      "source": [
        "#### Exercise 1\n",
        "\n",
        "We have defined two variables $x$ and $y$.\n",
        "\n",
        "Compute and print the value of $x^3 + x\\,y + 2\\,y$, with a prepended message."
      ]
    },
    {
      "cell_type": "code",
      "metadata": {
        "id": "r31a3IQD_tx5"
      },
      "source": [
        "x = 1.7\n",
        "y = 0.89\n",
        "\n",
        "### YOUR CODE GOES HERE \n",
        "\n",
        "### END OF YOUR CODE"
      ],
      "execution_count": null,
      "outputs": []
    },
    {
      "cell_type": "code",
      "metadata": {
        "id": "FD-u8hKF-dur",
        "colab": {
          "base_uri": "https://localhost:8080/",
          "height": 34
        },
        "outputId": "967c0575-7b81-47c2-bfc1-a7f05d6c0c06"
      },
      "source": [
        "#@title Solution to exercise 1\n",
        "\n",
        "result = x**3 + x*y + 2*y\n",
        "print(f\"Here is the result: {result}\")"
      ],
      "execution_count": null,
      "outputs": [
        {
          "output_type": "stream",
          "text": [
            "Here is the result: 8.206\n"
          ],
          "name": "stdout"
        }
      ]
    },
    {
      "cell_type": "markdown",
      "metadata": {
        "id": "h7luFfzCLU1P"
      },
      "source": [
        "### Operations on strings 📝\n",
        "\n",
        "Here are a few examples, find all the string methods [in the Python documentation](https://docs.python.org/3.7/library/string.html)."
      ]
    },
    {
      "cell_type": "code",
      "metadata": {
        "id": "CxJebCOKLWbW",
        "colab": {
          "base_uri": "https://localhost:8080/",
          "height": 34
        },
        "outputId": "b6de7a20-5d39-4e03-a658-045a80228b39"
      },
      "source": [
        "my_string = \"data analytics is cool\"\n",
        "\n",
        "split_string = my_string.split()\n",
        "print(\"Split by blanks and get a list:\", split_string)  "
      ],
      "execution_count": null,
      "outputs": [
        {
          "output_type": "stream",
          "text": [
            "Split by blanks and get a list: ['data', 'analytics', 'is', 'cool']\n"
          ],
          "name": "stdout"
        }
      ]
    },
    {
      "cell_type": "code",
      "metadata": {
        "id": "zRUnqujL2LVe",
        "colab": {
          "base_uri": "https://localhost:8080/",
          "height": 34
        },
        "outputId": "101d5833-d793-4e8b-bb47-c91a269978f1"
      },
      "source": [
        "upper_string = my_string.upper()\n",
        "print(\"Uppercase:\", upper_string)"
      ],
      "execution_count": null,
      "outputs": [
        {
          "output_type": "stream",
          "text": [
            "Uppercase: DATA ANALYTICS IS COOL\n"
          ],
          "name": "stdout"
        }
      ]
    },
    {
      "cell_type": "code",
      "metadata": {
        "id": "wBXMa8WD2N-R",
        "colab": {
          "base_uri": "https://localhost:8080/",
          "height": 34
        },
        "outputId": "562bdd14-6f30-4c67-a30d-886da8753e08"
      },
      "source": [
        "concatenated_strings = my_string + \", indeed!\" \n",
        "print(\"Concatenat string with +: \", concatenated_strings)"
      ],
      "execution_count": null,
      "outputs": [
        {
          "output_type": "stream",
          "text": [
            "Concatenat string with +:  data analytics is cool, indeed!\n"
          ],
          "name": "stdout"
        }
      ]
    },
    {
      "cell_type": "markdown",
      "metadata": {
        "id": "-qn87OB-7cdN"
      },
      "source": [
        "### Operations on lists \n",
        "\n",
        "A list is an heterogeneous, ordered sequence of 0 or more comma-delimited elements enclosed within square brackets ('[', ']').\n",
        "\n",
        "Find a comprehensive list of lists methods [in the Python documentation](https://docs.python.org/3/tutorial/datastructures.html)."
      ]
    },
    {
      "cell_type": "code",
      "metadata": {
        "id": "XgCLwhSy7kuo",
        "colab": {
          "base_uri": "https://localhost:8080/",
          "height": 34
        },
        "outputId": "0edaa313-3fd8-444b-a47e-de39c676c1a5"
      },
      "source": [
        "my_list = [1, \"b\", 3.7, [\"orange\", \"apple\"]]  # list elements can even be lists!\n",
        "\n",
        "my_list[0] = \"a\"  # change first list element\n",
        "\n",
        "my_list.append(5)  # Add an element at the end of the list\n",
        "\n",
        "my_list = my_list + [True, False]  # Extend list with another list\n",
        "\n",
        "my_list"
      ],
      "execution_count": null,
      "outputs": [
        {
          "output_type": "execute_result",
          "data": {
            "text/plain": [
              "['a', 'b', 3.7, ['orange', 'apple'], 5, True, False]"
            ]
          },
          "metadata": {
            "tags": []
          },
          "execution_count": 47
        }
      ]
    },
    {
      "cell_type": "markdown",
      "metadata": {
        "id": "ykEo1axRZJvh"
      },
      "source": [
        "A nice feature of Python allows to define list using *list comprehension*, a technique you will probably encounter when reading other people's codes.\n",
        "\n",
        "One use case is the following: we want to modify every elements of a list, for instance by appending a given string to each of the items. We could do the following: \n",
        "\n",
        "```\n",
        "new_list = []\n",
        "for element in original_list:\n",
        "    new_list.append(element + \" message to append\")\n",
        "```\n",
        "\n",
        "This kind of operation is needed often in Python codes, thus the Python language has been augmented with a concise and elegant way to perform this kind of operations: *list comprehension*."
      ]
    },
    {
      "cell_type": "code",
      "metadata": {
        "id": "FnKlbwGEZQ7j",
        "colab": {
          "base_uri": "https://localhost:8080/",
          "height": 34
        },
        "outputId": "91a399a5-3c5d-489f-88c0-0f3a54c43b04"
      },
      "source": [
        "original_list = [\"🍌\", \"🍎\", \"🍐\"]  # Define a list of 3 emojis (i.e. strings)\n",
        "new_list = [fruit + \" = 😋\" for fruit in original_list]  # Append \" = 😋\" to all the elements of the list\n",
        "new_list"
      ],
      "execution_count": null,
      "outputs": [
        {
          "output_type": "execute_result",
          "data": {
            "text/plain": [
              "['🍌 = 😋', '🍎 = 😋', '🍐 = 😋']"
            ]
          },
          "metadata": {
            "tags": []
          },
          "execution_count": 107
        }
      ]
    },
    {
      "cell_type": "markdown",
      "metadata": {
        "id": "ptvO8t6tzcuF"
      },
      "source": [
        "### Sequences indexing\n",
        "\n",
        "Lists and strings are two examples of sequences. You can access any subsquence of it with the following syntax: `sequence[start:stop:step]`.\n",
        "\n",
        "Here are a few examples:"
      ]
    },
    {
      "cell_type": "code",
      "metadata": {
        "id": "UimQcKjg3Dhu",
        "colab": {
          "base_uri": "https://localhost:8080/",
          "height": 221
        },
        "outputId": "e792c0c9-fea1-4885-d8ee-837a8033c13c"
      },
      "source": [
        "sequence = \"abcdef\"\n",
        "\n",
        "print(\"First item:\", sequence[0]) \n",
        "print(\"4th item:\", sequence[3])\n",
        "print(\"Last item:\", sequence[-1])\n",
        "print(\"Penultimate item:\", sequence[-2])\n",
        "\n",
        "print('-'*50)  # Trick to print an horizontal bar\n",
        "\n",
        "print(\"Get items 0 to 3 (excluded):\", sequence[:3])\n",
        "print(\"Items 2 to the end:\", sequence[2:])\n",
        "print(\"Items 2 to 5 (excluded):\", sequence[2:5])\n",
        "\n",
        "print('-'*50)\n",
        "\n",
        "print(\"Print every other element:\", sequence[::2])\n",
        "print(\"Print sequence backwards:\", sequence[::-1])\n",
        "print(\"Combo: items 2 to 4 backwards:\", sequence[4:2:-1])"
      ],
      "execution_count": null,
      "outputs": [
        {
          "output_type": "stream",
          "text": [
            "First item: a\n",
            "4th item: d\n",
            "Last item: f\n",
            "Penultimate item: e\n",
            "--------------------------------------------------\n",
            "Get items 0 to 3 (excluded): abc\n",
            "Items 2 to the end: cdef\n",
            "Items 2 to 5 (excluded): cde\n",
            "--------------------------------------------------\n",
            "Print every other element: ace\n",
            "Print sequence backwards: fedcba\n",
            "Combo: items 2 to 4 backwards: ed\n"
          ],
          "name": "stdout"
        }
      ]
    },
    {
      "cell_type": "code",
      "metadata": {
        "id": "Dn2FYiY83yWn",
        "colab": {
          "base_uri": "https://localhost:8080/",
          "height": 34
        },
        "outputId": "ce5b77d7-49d1-47c3-f0a8-331dce325dc7"
      },
      "source": [
        "my_list = [1, 2, 3, 4, 5, 6]\n",
        "my_list[4:2:-1]  # The same works with lists"
      ],
      "execution_count": null,
      "outputs": [
        {
          "output_type": "execute_result",
          "data": {
            "text/plain": [
              "[5, 4]"
            ]
          },
          "metadata": {
            "tags": []
          },
          "execution_count": 45
        }
      ]
    },
    {
      "cell_type": "markdown",
      "metadata": {
        "id": "GbHyJHys4U4c"
      },
      "source": [
        "#### Exercise 2\n",
        "\n",
        "1. Print items 5 to 10 (included) of the following list.\n",
        "2. Print items 20 to 10.\n",
        "3. Print items with even indices (i.e. with 0-indexing it is the second one, fourth one, ...).\n",
        "4. Print items 1 to 5 and 10 to 15. "
      ]
    },
    {
      "cell_type": "code",
      "metadata": {
        "id": "DkLGr4mt5cXc"
      },
      "source": [
        "l = list(range(21))  # l contains [0, 1, 2, ..., 20]\n",
        "\n",
        "### YOUR CODE GOES HERE \n",
        "\n",
        "### END OF YOUR CODE"
      ],
      "execution_count": null,
      "outputs": []
    },
    {
      "cell_type": "code",
      "metadata": {
        "id": "xduRJdyE5QIj",
        "cellView": "form"
      },
      "source": [
        "#@title Solution to exercise 2\n",
        "\n",
        "print(\"1. \", l[5:11])\n",
        "print(\"2. \", l[:10:-1])\n",
        "print(\"3. \", l[1::2])\n",
        "print(\"4. \", l[:5] + l[10:15])"
      ],
      "execution_count": null,
      "outputs": []
    },
    {
      "cell_type": "markdown",
      "metadata": {
        "id": "GqnvgZcP5Vgv"
      },
      "source": [
        "### Tests, booleans, and conditions 🧪\n",
        "\n",
        "As any imperative language Python building blocks are tests and loops.\n",
        "\n",
        "⚠️Python does not use curly brackets ('{', '}') to enclose tests and loops like Javascript, Jave, or C does. Instead, it uses **indentation** (sequences of statements with the same *indentation level* are treated as a statement block) so be very careful about your indentation. ⚠️"
      ]
    },
    {
      "cell_type": "code",
      "metadata": {
        "id": "BS8DPLxe9t7R",
        "colab": {
          "base_uri": "https://localhost:8080/",
          "height": 34
        },
        "outputId": "c1da8f8e-ba13-4fff-ddd4-9e1537d35c5c"
      },
      "source": [
        "fruit = 'banana'  # change the fruit name and rerun the cell\n",
        "\n",
        "if fruit == 'apple':\n",
        "    print(\"An apple a day keeps the doctor away!\")\n",
        "elif fruit == 'lemon':  # elif is the short for \"Else if\"\n",
        "    print(\"When life gives you lemons, make lemonade\")\n",
        "else:\n",
        "    print(\"What is a \" + fruit + \"??\")"
      ],
      "execution_count": null,
      "outputs": [
        {
          "output_type": "stream",
          "text": [
            "What is a banana??\n"
          ],
          "name": "stdout"
        }
      ]
    },
    {
      "cell_type": "markdown",
      "metadata": {
        "id": "Sv58E5RaLhem"
      },
      "source": [
        "\"If\" statements support all tests that return booleans. They can be equality test, comparisons, type checking, or any function that returns a boolean.\n",
        "\n",
        "📃see the [Boolean operations paragraph](https://docs.python.org/3/reference/expressions.html#booleans) of the Python documentation for a comprehensive list."
      ]
    },
    {
      "cell_type": "code",
      "metadata": {
        "id": "SeqKH5RtMKFs",
        "colab": {
          "base_uri": "https://localhost:8080/",
          "height": 34
        },
        "outputId": "60fb1e9b-e966-4818-d698-4c8558ffefa0"
      },
      "source": [
        "3 > 5  # Inequality"
      ],
      "execution_count": null,
      "outputs": [
        {
          "output_type": "execute_result",
          "data": {
            "text/plain": [
              "False"
            ]
          },
          "metadata": {
            "tags": []
          },
          "execution_count": 70
        }
      ]
    },
    {
      "cell_type": "code",
      "metadata": {
        "id": "jQK4OdChNLWs",
        "colab": {
          "base_uri": "https://localhost:8080/",
          "height": 34
        },
        "outputId": "55d30988-5689-4961-e353-1e6475fd5f5f"
      },
      "source": [
        "3 != 5  # Difference"
      ],
      "execution_count": null,
      "outputs": [
        {
          "output_type": "execute_result",
          "data": {
            "text/plain": [
              "True"
            ]
          },
          "metadata": {
            "tags": []
          },
          "execution_count": 71
        }
      ]
    },
    {
      "cell_type": "code",
      "metadata": {
        "id": "NwmtzIcLNN2D",
        "colab": {
          "base_uri": "https://localhost:8080/",
          "height": 34
        },
        "outputId": "adc5127a-acdf-4495-f2a0-373867fdbd03"
      },
      "source": [
        "isinstance(3, int)  # Type checking"
      ],
      "execution_count": null,
      "outputs": [
        {
          "output_type": "execute_result",
          "data": {
            "text/plain": [
              "True"
            ]
          },
          "metadata": {
            "tags": []
          },
          "execution_count": 72
        }
      ]
    },
    {
      "cell_type": "code",
      "metadata": {
        "id": "luL1pKh7NQCz",
        "colab": {
          "base_uri": "https://localhost:8080/",
          "height": 34
        },
        "outputId": "01367305-94a6-45bc-ae2c-e5474c5ad523"
      },
      "source": [
        "'apple' in ['pear', 'banana', 'lemon']  # Inclusion"
      ],
      "execution_count": null,
      "outputs": [
        {
          "output_type": "execute_result",
          "data": {
            "text/plain": [
              "False"
            ]
          },
          "metadata": {
            "tags": []
          },
          "execution_count": 75
        }
      ]
    },
    {
      "cell_type": "code",
      "metadata": {
        "id": "pBYKutrONhib",
        "colab": {
          "base_uri": "https://localhost:8080/",
          "height": 34
        },
        "outputId": "1cff09a8-5e6a-48f0-cdda-ed765b5a12c2"
      },
      "source": [
        "not isinstance(3, str)  # Negation"
      ],
      "execution_count": null,
      "outputs": [
        {
          "output_type": "execute_result",
          "data": {
            "text/plain": [
              "True"
            ]
          },
          "metadata": {
            "tags": []
          },
          "execution_count": 77
        }
      ]
    },
    {
      "cell_type": "code",
      "metadata": {
        "id": "hh1ZV0TBNnk-",
        "colab": {
          "base_uri": "https://localhost:8080/",
          "height": 34
        },
        "outputId": "ef56f0dd-6e4a-4936-8d84-9cb712b73021"
      },
      "source": [
        "x = 3\n",
        "y = 5\n",
        "\n",
        "(x < y) and (y < 10)  # Compound boolean operations"
      ],
      "execution_count": null,
      "outputs": [
        {
          "output_type": "execute_result",
          "data": {
            "text/plain": [
              "True"
            ]
          },
          "metadata": {
            "tags": []
          },
          "execution_count": 76
        }
      ]
    },
    {
      "cell_type": "markdown",
      "metadata": {
        "id": "HBlrQ7wON9YA"
      },
      "source": [
        "### Loops ➰\n",
        "\n",
        "There are two ways to loop in Python:"
      ]
    },
    {
      "cell_type": "code",
      "metadata": {
        "id": "knPEcoy7OGyD",
        "colab": {
          "base_uri": "https://localhost:8080/",
          "height": 136
        },
        "outputId": "47357a81-932c-46b1-fdc8-12aa668f0ba6"
      },
      "source": [
        "# Running through the values of an iterable (i.e. any sequence)\n",
        "\n",
        "for room in [\"Bathroom\", \"Living room\", \"Kitchen\"]:\n",
        "    print(room)\n",
        "    \n",
        "print('-'*50)  # Horizontal bar trick\n",
        "\n",
        "for letter in \"abc\":\n",
        "    print(letter)"
      ],
      "execution_count": null,
      "outputs": [
        {
          "output_type": "stream",
          "text": [
            "Bathroom\n",
            "Living room\n",
            "Kitchen\n",
            "--------------------------------------------------\n",
            "a\n",
            "b\n",
            "c\n"
          ],
          "name": "stdout"
        }
      ]
    },
    {
      "cell_type": "code",
      "metadata": {
        "id": "vxHG_SAoOeR1",
        "colab": {
          "base_uri": "https://localhost:8080/",
          "height": 68
        },
        "outputId": "5b5758ec-1127-40c1-c628-bb2ee5d6da69"
      },
      "source": [
        "# Using a while loop and a condition\n",
        "\n",
        "i = 0\n",
        "while i < 3:\n",
        "    i += 1  # Add 1 to i\n",
        "    print(i)"
      ],
      "execution_count": null,
      "outputs": [
        {
          "output_type": "stream",
          "text": [
            "1\n",
            "2\n",
            "3\n"
          ],
          "name": "stdout"
        }
      ]
    },
    {
      "cell_type": "markdown",
      "metadata": {
        "id": "JJ52IzGS-NIL"
      },
      "source": [
        "### Functions\n",
        "\n",
        "Functions are ubiquitous in most programming languages, and are a very useful way to organize your code and avoid repetition."
      ]
    },
    {
      "cell_type": "code",
      "metadata": {
        "id": "nHAFnFav-sje",
        "colab": {
          "base_uri": "https://localhost:8080/",
          "height": 34
        },
        "outputId": "aeea0b1e-10e9-4575-d775-c51cf44e08cc"
      },
      "source": [
        "def my_first_function():\n",
        "    return 3\n",
        "\n",
        "my_first_function()"
      ],
      "execution_count": null,
      "outputs": [
        {
          "output_type": "execute_result",
          "data": {
            "text/plain": [
              "3"
            ]
          },
          "metadata": {
            "tags": []
          },
          "execution_count": 56
        }
      ]
    },
    {
      "cell_type": "code",
      "metadata": {
        "id": "ryHVvNJn-3gh",
        "colab": {
          "base_uri": "https://localhost:8080/",
          "height": 34
        },
        "outputId": "75daffd5-ad58-4f7e-d15d-7ad0627edbec"
      },
      "source": [
        "def function_with_argument(name):\n",
        "    return \"Hello, \" + name\n",
        "\n",
        "function_with_argument(\"Bobby\")"
      ],
      "execution_count": null,
      "outputs": [
        {
          "output_type": "execute_result",
          "data": {
            "text/plain": [
              "'Hello, Bobby'"
            ]
          },
          "metadata": {
            "tags": []
          },
          "execution_count": 57
        }
      ]
    },
    {
      "cell_type": "markdown",
      "metadata": {
        "id": "x-EGzgcq_Q9D"
      },
      "source": [
        "Due to the dynamic-typing property of Python, one has to be careful about the type of variables passed to functions. "
      ]
    },
    {
      "cell_type": "code",
      "metadata": {
        "id": "QXvcXyS7_iHZ",
        "colab": {
          "base_uri": "https://localhost:8080/",
          "height": 266
        },
        "outputId": "42231881-50ff-48bb-a29d-7660957995e4"
      },
      "source": [
        "function_with_argument(42)"
      ],
      "execution_count": null,
      "outputs": [
        {
          "output_type": "error",
          "ename": "TypeError",
          "evalue": "ignored",
          "traceback": [
            "\u001b[0;31m---------------------------------------------------------------------------\u001b[0m",
            "\u001b[0;31mTypeError\u001b[0m                                 Traceback (most recent call last)",
            "\u001b[0;32m<ipython-input-58-94cf51f888e4>\u001b[0m in \u001b[0;36m<module>\u001b[0;34m()\u001b[0m\n\u001b[0;32m----> 1\u001b[0;31m \u001b[0mfunction_with_argument\u001b[0m\u001b[0;34m(\u001b[0m\u001b[0;36m42\u001b[0m\u001b[0;34m)\u001b[0m\u001b[0;34m\u001b[0m\u001b[0;34m\u001b[0m\u001b[0m\n\u001b[0m",
            "\u001b[0;32m<ipython-input-57-27e8b468bb2c>\u001b[0m in \u001b[0;36mfunction_with_argument\u001b[0;34m(name)\u001b[0m\n\u001b[1;32m      1\u001b[0m \u001b[0;32mdef\u001b[0m \u001b[0mfunction_with_argument\u001b[0m\u001b[0;34m(\u001b[0m\u001b[0mname\u001b[0m\u001b[0;34m)\u001b[0m\u001b[0;34m:\u001b[0m\u001b[0;34m\u001b[0m\u001b[0;34m\u001b[0m\u001b[0m\n\u001b[0;32m----> 2\u001b[0;31m     \u001b[0;32mreturn\u001b[0m \u001b[0;34m\"Hello, \"\u001b[0m \u001b[0;34m+\u001b[0m \u001b[0mname\u001b[0m\u001b[0;34m\u001b[0m\u001b[0;34m\u001b[0m\u001b[0m\n\u001b[0m\u001b[1;32m      3\u001b[0m \u001b[0;34m\u001b[0m\u001b[0m\n\u001b[1;32m      4\u001b[0m \u001b[0mfunction_with_argument\u001b[0m\u001b[0;34m(\u001b[0m\u001b[0;34m\"Bobby\"\u001b[0m\u001b[0;34m)\u001b[0m\u001b[0;34m\u001b[0m\u001b[0;34m\u001b[0m\u001b[0m\n",
            "\u001b[0;31mTypeError\u001b[0m: must be str, not int"
          ]
        }
      ]
    },
    {
      "cell_type": "markdown",
      "metadata": {
        "id": "B2k2fHl4_k8b"
      },
      "source": [
        "Here the function call raises an error ecause the function tries to use the + operator between a string (`\"Hello, \"`) and an integer (3), which is not permitted in Python. You would have to cast the integer as a string (with `str(3)`) to do so.\n",
        "\n",
        "The argument types are usually specified in the *docstring* of the function. You can then access the docstring with the `help` keyword, or simply by hiting Tab in colab. All IDEs have similar keyboard shortcuts."
      ]
    },
    {
      "cell_type": "code",
      "metadata": {
        "id": "nIhCTkx5AFpd",
        "colab": {
          "base_uri": "https://localhost:8080/",
          "height": 170
        },
        "outputId": "c82c661f-049f-4683-d084-3f27a2d59cee"
      },
      "source": [
        "def function_with_argument(name):\n",
        "    \"\"\" This is my function docstring, it describes the behavior and\n",
        "    arguments of the function.\n",
        "    \n",
        "    Accepts one mandatory argument (name) that must be a string. \n",
        "    Outputs the name, prepended with a \"Hello, \" string.\n",
        "    \"\"\"\n",
        "    return \"Hello, \" + name\n",
        "\n",
        "\n",
        "help(function_with_argument)"
      ],
      "execution_count": null,
      "outputs": [
        {
          "output_type": "stream",
          "text": [
            "Help on function function_with_argument in module __main__:\n",
            "\n",
            "function_with_argument(name)\n",
            "    This is my function docstring, it describes the behavior and\n",
            "    arguments of the function.\n",
            "    \n",
            "    Accepts one mandatory argument (name) that must be a string. \n",
            "    Outputs the name, prepended with a \"Hello, \" string.\n",
            "\n"
          ],
          "name": "stdout"
        }
      ]
    },
    {
      "cell_type": "markdown",
      "metadata": {
        "id": "o0p9kRCAAnRs"
      },
      "source": [
        "Functions can also have default arguments."
      ]
    },
    {
      "cell_type": "code",
      "metadata": {
        "id": "v5e0rV7CA89v",
        "colab": {
          "base_uri": "https://localhost:8080/",
          "height": 51
        },
        "outputId": "9c7d4266-241d-438a-d70a-799c02b07601"
      },
      "source": [
        "def function_with_default_argument(name=\"John Doe\"):\n",
        "    return \"Hello, \" + name\n",
        "\n",
        "print(function_with_default_argument(\"Mickey\"))\n",
        "print(function_with_default_argument())"
      ],
      "execution_count": null,
      "outputs": [
        {
          "output_type": "stream",
          "text": [
            "Hello, Mickey\n",
            "Hello, John Doe\n"
          ],
          "name": "stdout"
        }
      ]
    },
    {
      "cell_type": "markdown",
      "metadata": {
        "id": "vlxkO2-jBVJb"
      },
      "source": [
        "#### Exercise 3\n",
        "\n",
        "Write a function that takes a list of numbers as input, and returns the ratio of the first and last elements of this list. \n",
        "\n",
        "Return the string \"Not defined\" if the denominator is 0.\n",
        "\n",
        "Don't forget to write the function docstring!"
      ]
    },
    {
      "cell_type": "code",
      "metadata": {
        "id": "nf9oPLhLB3Z_"
      },
      "source": [
        "first_list = [2.7, 9.8, 4.5, 7.5] \n",
        "second_list = [5, 9, 7, 7, 7, 0] \n",
        "\n",
        "def get_ratio(input_list):\n",
        "    ### YOUR CODE GOES HERE \n",
        "\n",
        "    ### END OF YOUR CODE\n",
        "\n",
        "print(get_ratio(first_list))\n",
        "print(get_ratio(second_list))"
      ],
      "execution_count": null,
      "outputs": []
    },
    {
      "cell_type": "code",
      "metadata": {
        "id": "yj77JrWoCWZM",
        "cellView": "form"
      },
      "source": [
        "#@title Solution to exercise 3\n",
        "\n",
        "first_list = [7.2, 9.8, 4.5, 2.3] \n",
        "second_list = [5, 9, 7, 7, 7, 0] \n",
        "\n",
        "def get_ratio(input_list):\n",
        "    ### YOUR CODE GOES HERE \n",
        "    \"\"\" Take a list as input and returns the \n",
        "    ratio of the first an last elements \"\"\"\n",
        "    first_element = input_list[0]\n",
        "    last_element = input_list[-1]\n",
        "    if last_element == 0:\n",
        "        return \"Not defined\"\n",
        "    else:g\n",
        "        return first_element / last_element\n",
        "    ### END OF YOUR CODE\n",
        "\n",
        "print(get_ratio(first_list))\n",
        "print(get_ratio(second_list))"
      ],
      "execution_count": null,
      "outputs": []
    },
    {
      "cell_type": "markdown",
      "metadata": {
        "id": "-x8W6zUnCvJa"
      },
      "source": [
        "## Advanced built-in types: tuples, sets, generators, and dictionaries\n",
        "\n",
        "Python has more iterables than strings and lists.\n",
        "\n",
        "The most widely used of these advanced types is the dictionary, it stores key and value pairs in a hash table (don't bother if you don't know what it is). "
      ]
    },
    {
      "cell_type": "code",
      "metadata": {
        "id": "_DKLxs7wUi-x",
        "colab": {
          "base_uri": "https://localhost:8080/",
          "height": 34
        },
        "outputId": "c5d9ce80-4f7b-4d9a-b58a-5930b41000b6"
      },
      "source": [
        "my_dict = {\"bananas\": 3, \"apples\": 6, \"pears\": 2}  # Define a dictionary\n",
        "\n",
        "my_dict[\"lemons\"] = 1  # Add a new item to the dictionary\n",
        "my_dict[\"apples\"] = 5  # Change the value associated with the key \"apples\"\n",
        "\n",
        "my_dict[\"apples\"]  # Gives the number of apples"
      ],
      "execution_count": null,
      "outputs": [
        {
          "output_type": "execute_result",
          "data": {
            "text/plain": [
              "5"
            ]
          },
          "metadata": {
            "tags": []
          },
          "execution_count": 101
        }
      ]
    },
    {
      "cell_type": "code",
      "metadata": {
        "id": "CTGVtMZxPz9n",
        "colab": {
          "base_uri": "https://localhost:8080/",
          "height": 181
        },
        "outputId": "5ef04358-ddc6-4184-8ce2-b0ca65faa9d6"
      },
      "source": [
        "# Tuples are the \"immutable\" equivalent of lists, their elements cannot be modified\n",
        "my_tuple = (1, 2, 3)\n",
        "my_tuple[0] = 3"
      ],
      "execution_count": null,
      "outputs": [
        {
          "output_type": "error",
          "ename": "TypeError",
          "evalue": "ignored",
          "traceback": [
            "\u001b[0;31m---------------------------------------------------------------------------\u001b[0m",
            "\u001b[0;31mTypeError\u001b[0m                                 Traceback (most recent call last)",
            "\u001b[0;32m<ipython-input-87-e361b9a9f556>\u001b[0m in \u001b[0;36m<module>\u001b[0;34m()\u001b[0m\n\u001b[1;32m      1\u001b[0m \u001b[0mmy_tuple\u001b[0m \u001b[0;34m=\u001b[0m \u001b[0;34m(\u001b[0m\u001b[0;36m1\u001b[0m\u001b[0;34m,\u001b[0m \u001b[0;36m2\u001b[0m\u001b[0;34m,\u001b[0m \u001b[0;36m3\u001b[0m\u001b[0;34m)\u001b[0m\u001b[0;34m\u001b[0m\u001b[0;34m\u001b[0m\u001b[0m\n\u001b[0;32m----> 2\u001b[0;31m \u001b[0mmy_tuple\u001b[0m\u001b[0;34m[\u001b[0m\u001b[0;36m0\u001b[0m\u001b[0;34m]\u001b[0m \u001b[0;34m=\u001b[0m \u001b[0;36m3\u001b[0m\u001b[0;34m\u001b[0m\u001b[0;34m\u001b[0m\u001b[0m\n\u001b[0m",
            "\u001b[0;31mTypeError\u001b[0m: 'tuple' object does not support item assignment"
          ]
        }
      ]
    },
    {
      "cell_type": "code",
      "metadata": {
        "id": "ep3p19rxQDlK",
        "colab": {
          "base_uri": "https://localhost:8080/",
          "height": 34
        },
        "outputId": "10bcd8ca-eb4e-418e-a2b9-83f42e56356c"
      },
      "source": [
        "# Sets are lists with no duplicates\n",
        "my_set = {1, 2, 2, 3, 3, 3}\n",
        "my_set"
      ],
      "execution_count": null,
      "outputs": [
        {
          "output_type": "execute_result",
          "data": {
            "text/plain": [
              "{1, 2, 3}"
            ]
          },
          "metadata": {
            "tags": []
          },
          "execution_count": 89
        }
      ]
    },
    {
      "cell_type": "code",
      "metadata": {
        "id": "UYMZVPw8QWdu",
        "colab": {
          "base_uri": "https://localhost:8080/",
          "height": 102
        },
        "outputId": "6bb6baec-6481-4c00-8cd0-0974ea509800"
      },
      "source": [
        "# Generators are iterators that limit memory usage by generating items \n",
        "# one-by-one, they are defined by functions\n",
        "\n",
        "def my_generator():\n",
        "    number = 0\n",
        "    while number < 5:\n",
        "        yield number\n",
        "        number += 1\n",
        "\n",
        "for i in my_generator():\n",
        "    print(i)"
      ],
      "execution_count": null,
      "outputs": [
        {
          "output_type": "stream",
          "text": [
            "0\n",
            "1\n",
            "2\n",
            "3\n",
            "4\n"
          ],
          "name": "stdout"
        }
      ]
    },
    {
      "cell_type": "markdown",
      "metadata": {
        "id": "XFQycbgSTw-Q"
      },
      "source": [
        "The last slide may puzzle you, but you most likely will not need to write your own generator, you just have to understand that values are generated one-by-one by a function.\n",
        "\n",
        "You will most likely use predefined generators like the followings.\n"
      ]
    },
    {
      "cell_type": "code",
      "metadata": {
        "id": "gof2O5I-UBpo",
        "colab": {
          "base_uri": "https://localhost:8080/",
          "height": 68
        },
        "outputId": "7c84fb31-c06a-443f-f5c4-ab97b78a72c1"
      },
      "source": [
        "for i in range(3):  # range is a predefined generator\n",
        "    print(i)"
      ],
      "execution_count": null,
      "outputs": [
        {
          "output_type": "stream",
          "text": [
            "0\n",
            "1\n",
            "2\n"
          ],
          "name": "stdout"
        }
      ]
    },
    {
      "cell_type": "code",
      "metadata": {
        "id": "Z1seBky7UNqy",
        "colab": {
          "base_uri": "https://localhost:8080/",
          "height": 68
        },
        "outputId": "b8e26eb2-9ae6-49ed-9e92-a6bb92cbd6fa"
      },
      "source": [
        "# Enumerate takes a list as input and outputs a generator \n",
        "# with the index of the items, and their values\n",
        "for i, item in enumerate([\"fruit\", \"apple\", \"pear\"]):  \n",
        "    print(i, item)"
      ],
      "execution_count": null,
      "outputs": [
        {
          "output_type": "stream",
          "text": [
            "0 fruit\n",
            "1 apple\n",
            "2 pear\n"
          ],
          "name": "stdout"
        }
      ]
    },
    {
      "cell_type": "markdown",
      "metadata": {
        "id": "MNwAJAw4n45U"
      },
      "source": [
        "#### Exercise 4\n",
        "\n",
        "Form a dictionary from the keys (names) and values (grades) lists below.\n",
        "\n",
        "Add a dictionary entry for \"spencer\", with a grade of 3.1.\n",
        "\n",
        "Loop over the dictionary items with the [`items`](https://docs.python.org/3/tutorial/datastructures.html?highlight=dictionary#dictionaries) method of `dict` to print the content of the dictionary nicely."
      ]
    },
    {
      "cell_type": "code",
      "metadata": {
        "id": "LUphynFkoFmF"
      },
      "source": [
        "names = [\"bobby\", \"brenda\", \"waldo\", \"christie\"]  # To be used as keys\n",
        "grades = [3.8, 2.7, 3.2, 3.5]  # To be used as values\n",
        "\n",
        "### YOUR CODE GOES HERE \n",
        "\n",
        "### END OF YOUR CODE"
      ],
      "execution_count": null,
      "outputs": []
    },
    {
      "cell_type": "code",
      "metadata": {
        "id": "0C1m23v-pNdC",
        "cellView": "form"
      },
      "source": [
        "#@title Solution to exercise 4\n",
        "\n",
        "names = [\"bobby\", \"brenda\", \"waldo\", \"christie\"]  # To be used as keys\n",
        "grades = [3.8, 2.7, 3.2, 3.5]  # To be used as values\n",
        "\n",
        "### YOUR CODE GOES HERE\n",
        "grades_dict = {}\n",
        "for i in range(4):\n",
        "    key = names[i]\n",
        "    value = grades[i]\n",
        "    \n",
        "    grades_dict[key] = value \n",
        "\n",
        "# Note: their is an elegant way of doing this in one line with \n",
        "# dictionaries comprehension, and the zip keyword:\n",
        "# grades_dict = {k: v for k, v in zip(names, grades)}\n",
        "\n",
        "grades_dict[\"spencer\"] = 3.1\n",
        "\n",
        "for name, grade in grades_dict.items():\n",
        "    print(name, \": \", grade)\n",
        "### END OF YOUR CODE\n",
        "                   \n",
        "  "
      ],
      "execution_count": null,
      "outputs": []
    },
    {
      "cell_type": "markdown",
      "metadata": {
        "id": "dOkBU_F_IwHr"
      },
      "source": [
        "## Classes and objects (advanced)\n",
        "\n",
        "Python supports object-oriented programming. This topic is deep, we will only give a crash introduction here.\n",
        "\n",
        "In Python everything is an object, i.e. something that bears data (\"attributes\") and functions (\"methods\"). \n",
        "\n",
        "For instance, when you define a string you store its value, e.g. `my_string=\"So many fruits in this tutorial\"`,  but it also has functions like ```my_string.upper()```,that returns the uppercase version of the string.\n",
        "\n",
        "You can also define your own classes with the keyword `class` 😎.\n",
        "\n",
        "📃The convention for classes definition is to use *CamelCase*, in which distinct words are not separated, but each new word starts with a capital letter.\n",
        "\n",
        "We will start with an example of larder class that is used to list the food that is available in my cellar or larder, and defines several convenient methods.\n",
        "\n",
        "The keyword `self` that is ubiquitous in classes definition is a *reference to the object*, it means that when you *instantiate* this class (i.e. you create one object that belongs to this class) `self` is used to access the object stored data (=attributes) within the class definition. "
      ]
    },
    {
      "cell_type": "code",
      "metadata": {
        "id": "iR57BoHHVkMK",
        "colab": {
          "base_uri": "https://localhost:8080/",
          "height": 85
        },
        "outputId": "a8d6a75b-79a9-4193-b4e8-99cd75a2e0c1"
      },
      "source": [
        "class MyLarder(object):  # Class definition, more on the object keyword later\n",
        "    \n",
        "    def __init__(self, larder_name):  \n",
        "        \"\"\" Object creation method, a.k.a. the constructor \"\"\"\n",
        "        self.name = larder_name # Define an attribute called \"name\" that will be stored with the object\n",
        "        self.num_objects = 0  # Initialize the number of objects to 0\n",
        "        self.fruit_names = []  # Initialize an empty list for fruit names\n",
        "        self.fruit_pictures = []  # Empty list for fruit pictures (emojis)\n",
        "        \n",
        "    def add_fruit(self, fruit_name, corresponding_emoji): \n",
        "        \"\"\" Method to add one fruit to the larder \"\"\"\n",
        "        self.fruit_names.append(fruit_name)\n",
        "        self.fruit_pictures.append(corresponding_emoji)\n",
        "        self.num_objects += 1  # increment the number of objects attribute\n",
        "        \n",
        "        \n",
        "    def draw_fruits(self):\n",
        "        \"\"\" Print fruit picture (i.e. emojis) with their names\"\"\"\n",
        "        print(\"Fruits in the larder:\")\n",
        "        for i in range(self.num_objects):\n",
        "            print(self.fruit_names[i] + \": \" + self.fruit_pictures[i])\n",
        "\n",
        "            \n",
        "# Instantiation: Create an object named \"Fruits living room\" from the MyLarder \n",
        "# class defined above\n",
        "larder = MyLarder(\"Fruits living room\")  \n",
        "\n",
        "larder.add_fruit(\"banana\", \"🍌\")\n",
        "larder.add_fruit(\"peach\", \"🍑\")\n",
        "larder.add_fruit(\"mango\", \"🥭\")\n",
        "\n",
        "larder.draw_fruits()"
      ],
      "execution_count": null,
      "outputs": [
        {
          "output_type": "stream",
          "text": [
            "Fruits in the larder:\n",
            "banana: 🍌\n",
            "peach: 🍑\n",
            "mango: 🥭\n"
          ],
          "name": "stdout"
        }
      ]
    },
    {
      "cell_type": "markdown",
      "metadata": {
        "id": "rVbGLhukX23n"
      },
      "source": [
        "Object-oriented programming is bound to the concept of inheritance, in which a class \"inherits\" part of the definition of a *parent class*.\n",
        "\n",
        "In the previous example the MyLarder class inherits from `object`, which is the default to create a class \"from scratch\". If you want to inherit methods from another parent class, just replace `object` with the class of your choice.\n",
        "\n",
        "For instance, let's say we want to create another class, similar to MyLarder, that does not allow for duplicate fruits in the larder. We can do the following."
      ]
    },
    {
      "cell_type": "code",
      "metadata": {
        "id": "GqkbnfxXniU2",
        "colab": {
          "base_uri": "https://localhost:8080/",
          "height": 34
        },
        "outputId": "bce78002-2b84-4699-b683-6c9f95de93df"
      },
      "source": [
        "class DeduplicatedLarder(MyLarder):  # Inherits from MyLarder\n",
        "    \n",
        "    def ___init__(self, visual_larder_name):  \n",
        "        \"\"\" Note: the constructor has to be redefined for child classes\"\"\"\n",
        "        super().__init__(visual_larder)  # Invoke the parent class constructor\n",
        "    \n",
        "    \n",
        "    def add_fruit(self, fruit_name, corresponding_emoji):\n",
        "        \"\"\" We override the add_fruit method because we want to change its\n",
        "        behavior, to check if the object already exists in the larder \"\"\"\n",
        "        if fruit_name in self.fruit_names:\n",
        "            print(fruit_name, \"is already present in the larder, skipping\")\n",
        "        else:\n",
        "            # If the fruit is not already present, use the add_fruit method\n",
        "            # of the parent class\n",
        "            super().add_fruit(fruit_name, corresponding_emoji)\n",
        "\n",
        "visual_larder = DeduplicatedLarder(\"Cooler larder\")\n",
        "\n",
        "visual_larder.add_fruit(\"banana\", \"🍌\")\n",
        "visual_larder.add_fruit(\"peach\", \"🍑\")\n",
        "visual_larder.add_fruit(\"mango\", \"🥭\")\n",
        "visual_larder.add_fruit(\"banana\", \"🍌\")  # We add a duplicate element here!"
      ],
      "execution_count": null,
      "outputs": [
        {
          "output_type": "stream",
          "text": [
            "banana is already present in the larder, skipping\n"
          ],
          "name": "stdout"
        }
      ]
    },
    {
      "cell_type": "code",
      "metadata": {
        "id": "lcDpLtf8eUI4",
        "colab": {
          "base_uri": "https://localhost:8080/",
          "height": 85
        },
        "outputId": "73be9eaa-61e8-4fd2-990a-035ec7153896"
      },
      "source": [
        "visual_larder.draw_fruits()  # Calling the parent class method"
      ],
      "execution_count": null,
      "outputs": [
        {
          "output_type": "stream",
          "text": [
            "Fruits in the larder:\n",
            "banana: 🍌\n",
            "peach: 🍑\n",
            "mango: 🥭\n"
          ],
          "name": "stdout"
        }
      ]
    },
    {
      "cell_type": "markdown",
      "metadata": {
        "id": "BN7O7zYmYXP7"
      },
      "source": [
        "#### Exercise 5\n",
        "\n",
        "Write a class that inherits from MyLarder and add a maximum items argument to the constructor.\n",
        "\n",
        "Override the add fruit method to forbid adding more items than the maximum items argument passed to the constructor.\n",
        "\n",
        "Instantiate your class (i.e. create an object that belongs to this class) with a maximum of 3 items and try adding 4 items to check that you cannot."
      ]
    },
    {
      "cell_type": "code",
      "metadata": {
        "id": "bxUhhTl5bTq8"
      },
      "source": [
        "### YOUR CODE GOES HERE\n",
        "\n",
        "### END OF YOUR CODE"
      ],
      "execution_count": null,
      "outputs": []
    },
    {
      "cell_type": "code",
      "metadata": {
        "id": "-pQDCq0vbKCT",
        "cellView": "form"
      },
      "source": [
        "#@title Solution to exercise 5\n",
        "\n",
        "\n",
        "class LimitedLarder(MyLarder):  # Inherits from MyLarder\n",
        "    \n",
        "    def __init__(self, limited_larder_name, max_items):  \n",
        "        \"\"\" Note: the constructor has to be redefined for child classes\"\"\"\n",
        "        super().__init__(limited_larder_name)  # Invoke the parent class constructor\n",
        "        self.max_items = max_items  # Store the max_items attribute\n",
        "        \n",
        "    \n",
        "    def add_fruit(self, fruit_name, corresponding_emoji):\n",
        "        \"\"\" We override the add_fruit method because we want to change its\n",
        "        behavior, to forbid adding more than self.max_items items \"\"\"\n",
        "        if self.num_objects >= self.max_items:\n",
        "            print(\"Larder is already full!\")\n",
        "        else:\n",
        "            # If the fruit is not already present, use the add_fruit method\n",
        "            # of the parent class\n",
        "            super().add_fruit(fruit_name, corresponding_emoji)\n",
        "\n",
        "limited_larder = LimitedLarder(\"Small larder\", 3)\n",
        "\n",
        "limited_larder.add_fruit(\"banana\", \"🍌\")\n",
        "limited_larder.add_fruit(\"peach\", \"🍑\")\n",
        "limited_larder.add_fruit(\"mango\", \"🥭\")\n",
        "limited_larder.add_fruit(\"watermelon\", \"🍉\")  # We add a fourth element here!"
      ],
      "execution_count": null,
      "outputs": []
    },
    {
      "cell_type": "markdown",
      "metadata": {
        "id": "UrKmR3XzDaj5"
      },
      "source": [
        "## Miscellaneous: read files 💾, handling dates ⌚️, and libraries import 📚\n",
        "\n",
        "The standard method to read a file is to create a file stream with `open` and use the read method.\n",
        "\n",
        "```\n",
        "file_content = open('myfile.txt', 'r').read()\n",
        "```\n",
        "\n",
        "In Colab the kernel (i.e. the code) is running in the cloud and so you don't have access to the localfile system. Instead, you can upload files with the following method."
      ]
    },
    {
      "cell_type": "code",
      "metadata": {
        "id": "PtHfJDaJnpvf"
      },
      "source": [
        "from google.colab import files\n",
        "\n",
        "filename = \"myfile.txt\"\n",
        "uploaded = files.upload()\n",
        "file = uploaded[filename]\n",
        "content = file.decode(\"ascii\")"
      ],
      "execution_count": null,
      "outputs": []
    },
    {
      "cell_type": "markdown",
      "metadata": {
        "id": "oYds7VxNnu3g"
      },
      "source": [
        "When coding you will always import libraries (bundles of functions and classes that you can use here and there in your code) and frameworks (like libraries but more greedy: when using a framework you have to enter its world fully, a process called *inversion of control*).\n",
        "\n",
        "Let's give an example with the results `datetime` module that handles temporal objects."
      ]
    },
    {
      "cell_type": "code",
      "metadata": {
        "id": "3MFUibL5nuEr",
        "colab": {
          "base_uri": "https://localhost:8080/",
          "height": 34
        },
        "outputId": "31f23244-b023-40f6-fbae-dcff073f16b7"
      },
      "source": [
        "import datetime  # Import all the libraries\n",
        "# If you want to call the \"now\" function to display the current datetime you \n",
        "# have to use the now function of the datetime module of the datetime library:\n",
        "datetime.datetime.now()  "
      ],
      "execution_count": null,
      "outputs": [
        {
          "output_type": "execute_result",
          "data": {
            "text/plain": [
              "datetime.datetime(2019, 5, 8, 18, 11, 58, 362921)"
            ]
          },
          "metadata": {
            "tags": []
          },
          "execution_count": 10
        }
      ]
    },
    {
      "cell_type": "code",
      "metadata": {
        "id": "2wgyJXrtprGA",
        "colab": {
          "base_uri": "https://localhost:8080/",
          "height": 34
        },
        "outputId": "8e30cf88-4fb3-4fa1-dc08-804e294354eb"
      },
      "source": [
        "from datetime import datetime  # With form you can import submodules directyl\n",
        "datetime.now()"
      ],
      "execution_count": null,
      "outputs": [
        {
          "output_type": "execute_result",
          "data": {
            "text/plain": [
              "datetime.datetime(2019, 5, 8, 18, 14, 10, 357039)"
            ]
          },
          "metadata": {
            "tags": []
          },
          "execution_count": 11
        }
      ]
    },
    {
      "cell_type": "code",
      "metadata": {
        "id": "sosedeKLqCZH",
        "colab": {
          "base_uri": "https://localhost:8080/",
          "height": 34
        },
        "outputId": "a80fb69c-e326-414a-dd8c-7e353aee53da"
      },
      "source": [
        "from datetime import datetime as dt  # To be concise you can rename submodules with \"as\"\n",
        "dt.now()"
      ],
      "execution_count": null,
      "outputs": [
        {
          "output_type": "execute_result",
          "data": {
            "text/plain": [
              "datetime.datetime(2019, 5, 8, 21, 4, 6, 165440)"
            ]
          },
          "metadata": {
            "tags": []
          },
          "execution_count": 16
        }
      ]
    },
    {
      "cell_type": "markdown",
      "metadata": {
        "id": "GcjvpqbJX-Lu"
      },
      "source": [
        "## Wrap-up and and further reading 📚\n",
        "\n",
        "In this tutorial we have seen the basics of Python programming, that should allow you to understand most Python codes and write short codes for yourself:\n",
        "- Variables definition, types and manipulation\n",
        "- Functions\n",
        "- Sequences indexing\n",
        "- Tests and loops\n",
        "- Advanced built-in objects\n",
        "- Classes\n",
        "\n",
        "\n",
        "Topics we have not covered (by increasing degree of complexity):\n",
        "- String formatting (e.g. choose the number of displayed decimals for floats)\n",
        "- Regular expressions (efficient way to search for patterns in strings)\n",
        "- Exceptions (error handling)\n",
        "- Decorators\n",
        "- Meta-classes\n",
        "- Testing\n",
        "- Functional programming in Python\n",
        "- Design patterns\n",
        "- Algorithms\n",
        "\n",
        "\n",
        "If you want to dig deeper into the language, here is reading list suggestion:\n",
        "- The “[Python Masterclass for beginners](https://www.udemy.com/python-for-absolute-beginners-u/?ranMID=39197&ranEAID=JVFxdTr9V80&ranSiteID=JVFxdTr9V80-3kPOkwDswbYTQ0QKrEDXeg&LSNPUBID=JVFxdTr9V80)” (6h) on Udemy \n",
        "- [Ehmattes’ Introduction to Python Programming notebooks](https://nbviewer.jupyter.org/github/ehmatthes/intro_programming/blob/master/notebooks/index.ipynb)\n",
        "- One of the many Python courses on [Coursera](https://www.coursera.org/)"
      ]
    }
  ]
}